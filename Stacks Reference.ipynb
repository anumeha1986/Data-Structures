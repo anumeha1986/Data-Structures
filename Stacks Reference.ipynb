{
 "cells": [
  {
   "attachments": {
    "stack%20basic.JPG": {
     "image/jpeg": "[encoded data removed]"
    }
   },
   "cell_type": "markdown",
   "id": "4886157d",
   "metadata": {
    "id": "c7UdTv5UYKwv"
   },
   "source": [
    "## Stacks in Python\n",
    "![stack%20basic.JPG](attachment:stack%20basic.JPG)"
   ]
  },
  {
   "cell_type": "markdown",
   "id": "f355c44a",
   "metadata": {
    "id": "9ApDTVG_YKw1"
   },
   "source": [
    "### Agenda:\n",
    "\n",
    "1. Basic stack operations\n",
    "    - Push\n",
    "    - Pop\n",
    "    - isEmpty\n",
    "    - Peek\n",
    "    - size\n",
    "    \n",
    "\n",
    "2. Balanced Paranthesis problem"
   ]
  },
  {
   "cell_type": "markdown",
   "id": "31c8868e",
   "metadata": {
    "id": "DI_yl5JRYKw3"
   },
   "source": [
    "### Basic stack operations"
   ]
  },
  {
   "cell_type": "code",
   "execution_count": 1,
   "id": "a6eeb3f0",
   "metadata": {
    "id": "DKY7I_J3YKw4"
   },
   "outputs": [],
   "source": [
    "class Stack:\n",
    "    \n",
    "    def __init__(self):\n",
    "        \"\"\"\n",
    "        init is a reserved method in Python that initialises the attributes/variables of a class. \n",
    "        It is called automatically once an object of class Stack is created.\n",
    "        \"\"\"\n",
    "        self.items=[]\n",
    "                \n",
    "    def push(self, item):\n",
    "        \"\"\"\n",
    "        push will add an item to the top of the stack. It takes the item to be pushed as an input parameter\n",
    "        and modifies the stack. Returns none.\n",
    "        \"\"\"\n",
    "        # There is no overflow condition here. why? we have created an empty list which\n",
    "        # has dynamic size. If we had created a list of fixed size, then we would have to \n",
    "        # check for overflow condition before pushing into the stack. \n",
    "        self.items.append(item)        \n",
    "        \n",
    "    def pop(self):\n",
    "        \"\"\"\n",
    "        removes the top most item from the stack and returns the item. The original stack is modified\n",
    "        \"\"\"     \n",
    "        #underflow condition. \n",
    "        if self.isEmpty():\n",
    "            return \"The stack is empty\"\n",
    "        \n",
    "        return self.items.pop()\n",
    "    \n",
    "    def isEmpty(self):\n",
    "        \"\"\"\n",
    "        returns True if the stack is empty, False otherwise. Needs no input parameter\n",
    "        \"\"\"\n",
    "        return self.items==[]\n",
    "    \n",
    "    def peek(self):\n",
    "        \"\"\"\n",
    "        returns the top most item of the stack. No parameter is required. The original stack is not modified\n",
    "        \"\"\"\n",
    "        return self.items[len(self.items)-1]\n",
    "    \n",
    "    def size(self):\n",
    "        \"\"\"\n",
    "        returns the number of items in the stack. No parameter is required.\n",
    "        \"\"\"\n",
    "        return len(self.items)"
   ]
  },
  {
   "cell_type": "code",
   "execution_count": null,
   "id": "c5804b8d",
   "metadata": {
    "id": "OCydCb6VYKw8"
   },
   "outputs": [],
   "source": [
    "# Creating an object of class Stack\n",
    "\n",
    "s=Stack()"
   ]
  },
  {
   "cell_type": "code",
   "execution_count": null,
   "id": "2edd65d3",
   "metadata": {
    "id": "Hluo029vYKw9",
    "outputId": "146000d8-07e4-4a22-a5f5-5cee73c8b96c"
   },
   "outputs": [
    {
     "data": {
      "text/plain": [
       "[]"
      ]
     },
     "execution_count": 40,
     "metadata": {},
     "output_type": "execute_result"
    }
   ],
   "source": [
    "# Print the stack\n",
    "\n",
    "s.items"
   ]
  },
  {
   "cell_type": "code",
   "execution_count": null,
   "id": "3e45179e",
   "metadata": {
    "id": "LYuQrXIaYKw_",
    "outputId": "c39222b7-1686-48f4-ad14-2dd01aec947e"
   },
   "outputs": [
    {
     "data": {
      "text/plain": [
       "'The stack is empty'"
      ]
     },
     "execution_count": 42,
     "metadata": {},
     "output_type": "execute_result"
    }
   ],
   "source": [
    "# Remove the top element\n",
    "\n",
    "s.pop()"
   ]
  },
  {
   "cell_type": "code",
   "execution_count": null,
   "id": "955e8f38",
   "metadata": {
    "id": "rn9froZaYKxA",
    "outputId": "49e827f1-91d3-4629-d8c9-afe7c1784739"
   },
   "outputs": [
    {
     "data": {
      "text/plain": [
       "True"
      ]
     },
     "execution_count": 19,
     "metadata": {},
     "output_type": "execute_result"
    }
   ],
   "source": [
    "# Check if the stack is empty\n",
    "\n",
    "s.isEmpty()"
   ]
  },
  {
   "cell_type": "code",
   "execution_count": null,
   "id": "a56ed786",
   "metadata": {
    "id": "Z_IxecShYKxC"
   },
   "outputs": [],
   "source": [
    "# Insert an element to the stack\n",
    "\n",
    "s.push(\"A\")"
   ]
  },
  {
   "cell_type": "code",
   "execution_count": null,
   "id": "c3c44752",
   "metadata": {
    "id": "LRY9vQv1YKxD",
    "outputId": "7feedf63-2dde-474b-975e-4a5f73a285b1"
   },
   "outputs": [
    {
     "data": {
      "text/plain": [
       "['A']"
      ]
     },
     "execution_count": 22,
     "metadata": {},
     "output_type": "execute_result"
    }
   ],
   "source": [
    "s.items"
   ]
  },
  {
   "cell_type": "code",
   "execution_count": null,
   "id": "e1b69083",
   "metadata": {
    "id": "44ysLX0JYKxE",
    "outputId": "c675821d-924a-43f2-fa50-182ba8462927"
   },
   "outputs": [
    {
     "data": {
      "text/plain": [
       "1"
      ]
     },
     "execution_count": 23,
     "metadata": {},
     "output_type": "execute_result"
    }
   ],
   "source": [
    "# Get the size of stack\n",
    "\n",
    "s.size()"
   ]
  },
  {
   "cell_type": "code",
   "execution_count": null,
   "id": "5c4ac240",
   "metadata": {
    "id": "PNpOn-VjYKxF"
   },
   "outputs": [],
   "source": [
    "# Insert three more elements to the stack\n",
    "\n",
    "s.push(\"B\")\n",
    "s.push(\"C\")\n",
    "s.push(\"D\")"
   ]
  },
  {
   "cell_type": "code",
   "execution_count": null,
   "id": "7ca67727",
   "metadata": {
    "id": "CJ5DqRihYKxF",
    "outputId": "cdbb4c0c-cfe3-42db-d9c1-dcbd9f57cc09"
   },
   "outputs": [
    {
     "data": {
      "text/plain": [
       "['A', 'B', 'C', 'D']"
      ]
     },
     "execution_count": 25,
     "metadata": {},
     "output_type": "execute_result"
    }
   ],
   "source": [
    "# Using object name.attribute to access the contents of the list\n",
    "s.items"
   ]
  },
  {
   "cell_type": "code",
   "execution_count": null,
   "id": "ae0a93f9",
   "metadata": {
    "id": "mRVnltjcYKxG",
    "outputId": "45abce10-b749-4306-fa85-af7e537acfbc"
   },
   "outputs": [
    {
     "data": {
      "text/plain": [
       "4"
      ]
     },
     "execution_count": 26,
     "metadata": {},
     "output_type": "execute_result"
    }
   ],
   "source": [
    "# Get the size of stack\n",
    "s.size()"
   ]
  },
  {
   "cell_type": "code",
   "execution_count": null,
   "id": "78d17079",
   "metadata": {
    "id": "MAMLooXwYKxH",
    "outputId": "c3714456-3ab5-45b0-a0a2-1f1bcb9498c6"
   },
   "outputs": [
    {
     "data": {
      "text/plain": [
       "False"
      ]
     },
     "execution_count": 27,
     "metadata": {},
     "output_type": "execute_result"
    }
   ],
   "source": [
    "s.isEmpty()"
   ]
  },
  {
   "cell_type": "code",
   "execution_count": null,
   "id": "be351566",
   "metadata": {
    "id": "dx3a36aKYKxI",
    "outputId": "75cc45ac-8040-4688-d01c-2b55d070770a"
   },
   "outputs": [
    {
     "data": {
      "text/plain": [
       "'D'"
      ]
     },
     "execution_count": 28,
     "metadata": {},
     "output_type": "execute_result"
    }
   ],
   "source": [
    "# To get the top most element in stack\n",
    "s.peek()"
   ]
  },
  {
   "cell_type": "code",
   "execution_count": null,
   "id": "124f4ba7",
   "metadata": {
    "id": "oYvhYeZ9YKxI",
    "outputId": "b3aa38c0-3c3a-4422-f0b9-106cf7b08b2a"
   },
   "outputs": [
    {
     "data": {
      "text/plain": [
       "['A', 'B', 'C', 'D']"
      ]
     },
     "execution_count": 29,
     "metadata": {},
     "output_type": "execute_result"
    }
   ],
   "source": [
    "# peek will not modify the original stack. It only gives the top most element\n",
    "s.items"
   ]
  },
  {
   "cell_type": "code",
   "execution_count": null,
   "id": "558309bc",
   "metadata": {
    "id": "tbdLqnhtYKxJ",
    "outputId": "4f4a8a2e-ef95-42ce-8349-8b9249104e18"
   },
   "outputs": [
    {
     "data": {
      "text/plain": [
       "'D'"
      ]
     },
     "execution_count": 30,
     "metadata": {},
     "output_type": "execute_result"
    }
   ],
   "source": [
    "s.pop()"
   ]
  },
  {
   "cell_type": "code",
   "execution_count": null,
   "id": "1a4891e1",
   "metadata": {
    "id": "ghiwZiofYKxK",
    "outputId": "3f88930d-68e4-40ce-d279-a77b0401dd54"
   },
   "outputs": [
    {
     "data": {
      "text/plain": [
       "['A', 'B', 'C']"
      ]
     },
     "execution_count": 31,
     "metadata": {},
     "output_type": "execute_result"
    }
   ],
   "source": [
    "# Printing the final stack after popping the top most element\n",
    "s.items"
   ]
  },
  {
   "cell_type": "markdown",
   "id": "24e3ea07",
   "metadata": {
    "id": "Vsn1wC8cYKxL"
   },
   "source": [
    "## Stack example problem"
   ]
  },
  {
   "cell_type": "markdown",
   "id": "d4a21b29",
   "metadata": {
    "id": "EGUM_7beYKxL"
   },
   "source": [
    "### Balanced parantheses"
   ]
  },
  {
   "cell_type": "markdown",
   "id": "bb02c442",
   "metadata": {
    "id": "2iMNuVvoYKxL"
   },
   "source": [
    "Write an algorithm that returns \"True\" if a group of parentheses which are passed as input are balanced. If not, it returns \"False\". Note that the parentheses can only be of simple brackets '()' type.\n",
    "\n",
    "**Test Case - 1** \\\n",
    "Sample input: \n",
    "(()()()()) \\\n",
    "Sample Output:\n",
    "True\n",
    "\n",
    "**Test Case - 2** \\\n",
    "Sample input:\n",
    "(()((())())) \\\n",
    "Sample Output:\n",
    "True\n",
    "\n",
    "**Test Case - 3** \\\n",
    "Sample input:\n",
    "((((((())) \\\n",
    "Sample Output:\n",
    "False\n",
    "\n",
    "**Test Case - 4** \\\n",
    "Sample input:\n",
    ")()( \\\n",
    "Sample Output:\n",
    "False\n",
    "\n",
    "***Explanation:*** \n",
    "- In test case - 1 & 2, the number of '(' and ')' brackets are both equal to 5 and the order in which they appear ensures that every opening bracket has its corresponding closing bracket. Hence, it shows `True` in the output. \n",
    "- In test case - 3, the number of '(' is equal to 7 whereas the number of ')' is equal to 3. Hence it shows `False` in the output.\n",
    "- In test case - 4, although the number of opening and closing braces match, they are not in proper order, thus making it unbalanced. The function returns `False`."
   ]
  },
  {
   "cell_type": "code",
   "execution_count": null,
   "id": "6bc173bf",
   "metadata": {},
   "outputs": [],
   "source": [
    "class Stack:\n",
    "    \n",
    "    def __init__(self):\n",
    "        self.items=[]\n",
    "                \n",
    "    def push(self, item):\n",
    "        self.items.append(item)        \n",
    "        \n",
    "    def pop(self):\n",
    "#         #underflow condition. \n",
    "#         if self.isEmpty():\n",
    "#             return \"The stack is empty\"\n",
    "        return self.items.pop()\n",
    "    \n",
    "    def isEmpty(self):\n",
    "        return self.items==[]\n",
    "    \n",
    "    def peek(self):\n",
    "        return self.items[len(self.items)-1]\n",
    "    \n",
    "    def size(self):\n",
    "        return len(self.items)"
   ]
  },
  {
   "cell_type": "code",
   "execution_count": null,
   "id": "f7c5049b",
   "metadata": {
    "id": "QIeMsnmmeF69"
   },
   "outputs": [],
   "source": [
    "# Base line model\n",
    "\n",
    "def balanced_paranthesis(string):\n",
    "    \"\"\"\n",
    "    returns True is the paranthesis are balanced, else False\n",
    "    \"\"\"\n",
    "    s=Stack()\n",
    "    index=0\n",
    "   \n",
    "    while (index<len(string)):\n",
    "        if string[index]=='(':\n",
    "            s.push(string[index])     \n",
    "        else:\n",
    "            s.pop()\n",
    "\n",
    "        index+=1\n",
    "\n",
    "    if s.isEmpty():\n",
    "        return True\n",
    "    else:\n",
    "        return False"
   ]
  },
  {
   "cell_type": "code",
   "execution_count": null,
   "id": "5d069ec2",
   "metadata": {
    "colab": {
     "base_uri": "https://localhost:8080/"
    },
    "executionInfo": {
     "elapsed": 12,
     "status": "ok",
     "timestamp": 1632755046298,
     "user": {
      "displayName": "Vaishnavee M",
      "photoUrl": "https://lh3.googleusercontent.com/a/default-user=s64",
      "userId": "00238996371145262943"
     },
     "user_tz": -330
    },
    "id": "eQoaRofEffgE",
    "outputId": "c4712417-5f26-445d-c36a-dabfe3069483"
   },
   "outputs": [
    {
     "name": "stdout",
     "output_type": "stream",
     "text": [
      "True\n"
     ]
    }
   ],
   "source": [
    "print(balanced_paranthesis('(())'))"
   ]
  },
  {
   "cell_type": "code",
   "execution_count": null,
   "id": "47c0d615",
   "metadata": {
    "colab": {
     "base_uri": "https://localhost:8080/",
     "height": 306
    },
    "executionInfo": {
     "elapsed": 22,
     "status": "error",
     "timestamp": 1632755047993,
     "user": {
      "displayName": "Vaishnavee M",
      "photoUrl": "https://lh3.googleusercontent.com/a/default-user=s64",
      "userId": "00238996371145262943"
     },
     "user_tz": -330
    },
    "id": "5MZ5AhiWfhtv",
    "outputId": "280cdca2-2ff0-4d17-a5fb-79ca762ceba6"
   },
   "outputs": [
    {
     "ename": "IndexError",
     "evalue": "ignored",
     "output_type": "error",
     "traceback": [
      "\u001b[0;31m---------------------------------------------------------------------------\u001b[0m",
      "\u001b[0;31mIndexError\u001b[0m                                Traceback (most recent call last)",
      "\u001b[0;32m<ipython-input-28-63c9eb98bb79>\u001b[0m in \u001b[0;36m<module>\u001b[0;34m()\u001b[0m\n\u001b[0;32m----> 1\u001b[0;31m \u001b[0mprint\u001b[0m\u001b[0;34m(\u001b[0m\u001b[0mbalanced_paranthesis\u001b[0m\u001b[0;34m(\u001b[0m\u001b[0;34m'())'\u001b[0m\u001b[0;34m)\u001b[0m\u001b[0;34m)\u001b[0m\u001b[0;34m\u001b[0m\u001b[0;34m\u001b[0m\u001b[0m\n\u001b[0m",
      "\u001b[0;32m<ipython-input-26-4f7f8ffd4f55>\u001b[0m in \u001b[0;36mbalanced_paranthesis\u001b[0;34m(string)\u001b[0m\n\u001b[1;32m     11\u001b[0m         \u001b[0;32melse\u001b[0m\u001b[0;34m:\u001b[0m\u001b[0;34m\u001b[0m\u001b[0;34m\u001b[0m\u001b[0m\n\u001b[1;32m     12\u001b[0m             \u001b[0;31m#print(\"Before pop:\" + str(s.items))\u001b[0m\u001b[0;34m\u001b[0m\u001b[0;34m\u001b[0m\u001b[0;34m\u001b[0m\u001b[0m\n\u001b[0;32m---> 13\u001b[0;31m             \u001b[0ms\u001b[0m\u001b[0;34m.\u001b[0m\u001b[0mpop\u001b[0m\u001b[0;34m(\u001b[0m\u001b[0;34m)\u001b[0m\u001b[0;34m\u001b[0m\u001b[0;34m\u001b[0m\u001b[0m\n\u001b[0m\u001b[1;32m     14\u001b[0m \u001b[0;34m\u001b[0m\u001b[0m\n\u001b[1;32m     15\u001b[0m         \u001b[0mindex\u001b[0m\u001b[0;34m+=\u001b[0m\u001b[0;36m1\u001b[0m\u001b[0;34m\u001b[0m\u001b[0;34m\u001b[0m\u001b[0m\n",
      "\u001b[0;32m<ipython-input-24-3efc88ad74cc>\u001b[0m in \u001b[0;36mpop\u001b[0;34m(self)\u001b[0m\n\u001b[1;32m     27\u001b[0m            \u001b[0;31m# return \"The stack is empty\"\u001b[0m\u001b[0;34m\u001b[0m\u001b[0;34m\u001b[0m\u001b[0;34m\u001b[0m\u001b[0m\n\u001b[1;32m     28\u001b[0m \u001b[0;34m\u001b[0m\u001b[0m\n\u001b[0;32m---> 29\u001b[0;31m         \u001b[0;32mreturn\u001b[0m \u001b[0mself\u001b[0m\u001b[0;34m.\u001b[0m\u001b[0mitems\u001b[0m\u001b[0;34m.\u001b[0m\u001b[0mpop\u001b[0m\u001b[0;34m(\u001b[0m\u001b[0;34m)\u001b[0m\u001b[0;34m\u001b[0m\u001b[0;34m\u001b[0m\u001b[0m\n\u001b[0m\u001b[1;32m     30\u001b[0m \u001b[0;34m\u001b[0m\u001b[0m\n\u001b[1;32m     31\u001b[0m     \u001b[0;32mdef\u001b[0m \u001b[0misEmpty\u001b[0m\u001b[0;34m(\u001b[0m\u001b[0mself\u001b[0m\u001b[0;34m)\u001b[0m\u001b[0;34m:\u001b[0m\u001b[0;34m\u001b[0m\u001b[0;34m\u001b[0m\u001b[0m\n",
      "\u001b[0;31mIndexError\u001b[0m: pop from empty list"
     ]
    }
   ],
   "source": [
    "print(balanced_paranthesis('())'))\n",
    "\n",
    "# The error has occured due to stack underflow condition. We have commented out the return statement\n",
    "# for stack underflow in our Stack class. If we do not comment that out, then we will get 'True' as output. Why?\n",
    "# By returning \"The stack is empty\", we are actually suppressing the error and breaking the loop.\n",
    "# Now the control will pass to the if statement and the stack is actually empty currently and we get a True as output."
   ]
  },
  {
   "cell_type": "code",
   "execution_count": null,
   "id": "6a73e733",
   "metadata": {
    "id": "rAVbfAn-fIpP"
   },
   "outputs": [],
   "source": [
    "# incorporating the condition for stack underflow - final model\n",
    "\n",
    "def balanced_paranthesis(string):\n",
    "    \"\"\"\n",
    "    returns True is the paranthesis are balanced, else False\n",
    "    \"\"\"\n",
    "    s=Stack()\n",
    "    index=0\n",
    "    \n",
    "   \n",
    "    while (index<len(string)):\n",
    "        if string[index]=='(':\n",
    "            s.push(string[index])     \n",
    "        else:\n",
    "            if s.isEmpty():\n",
    "                return False\n",
    "            else:\n",
    "                s.pop()\n",
    "        index+=1\n",
    "        \n",
    "\n",
    "    if s.isEmpty():\n",
    "        return True\n",
    "    else:\n",
    "        return False"
   ]
  },
  {
   "cell_type": "code",
   "execution_count": null,
   "id": "b6338614",
   "metadata": {
    "colab": {
     "base_uri": "https://localhost:8080/"
    },
    "executionInfo": {
     "elapsed": 491,
     "status": "ok",
     "timestamp": 1632803106737,
     "user": {
      "displayName": "Vaishnavee M",
      "photoUrl": "https://lh3.googleusercontent.com/a/default-user=s64",
      "userId": "00238996371145262943"
     },
     "user_tz": -330
    },
    "id": "Lljy7nDWiizt",
    "outputId": "7e3ae754-daad-4a64-cf16-b150161426ae"
   },
   "outputs": [
    {
     "name": "stdout",
     "output_type": "stream",
     "text": [
      "True\n",
      "---\n",
      "True\n",
      "False\n"
     ]
    }
   ],
   "source": [
    "string='((()))'\n",
    "print(balanced_paranthesis(string))\n",
    "print('---')\n",
    "print(balanced_paranthesis('((()))'))\n",
    "print(balanced_paranthesis('(()'))"
   ]
  },
  {
   "cell_type": "code",
   "execution_count": 1,
   "id": "dfc28427",
   "metadata": {
    "id": "IbZ1BCV0c7pz"
   },
   "outputs": [
    {
     "ename": "IndentationError",
     "evalue": "unexpected indent (3704155674.py, line 3)",
     "output_type": "error",
     "traceback": [
      "\u001b[1;36m  Input \u001b[1;32mIn [1]\u001b[1;36m\u001b[0m\n\u001b[1;33m    def printKthelement(self,k):\u001b[0m\n\u001b[1;37m    ^\u001b[0m\n\u001b[1;31mIndentationError\u001b[0m\u001b[1;31m:\u001b[0m unexpected indent\n"
     ]
    }
   ],
   "source": [
    "####EXTRAS = UPGRAD questions\n",
    "\n",
    "    def printKthelement(self,k):\n",
    "        length = len(self.items)\n",
    "        if k <=length:\n",
    "            return self.items[length-k]\n",
    "        else:\n",
    "            print(\"There are not enough elements in the stack\")\n",
    "    def printusingpop(self,k):\n",
    "        length = len(self.items)\n",
    "        if len(self.items)<k:\n",
    "            print(\"There are not enough elements in the stack\")\n",
    "        else:\n",
    "            for i in range(k-1):\n",
    "                self.items.pop()\n",
    "            print(self.peek())\n",
    "\n"
   ]
  },
  {
   "cell_type": "code",
   "execution_count": 2,
   "id": "d85b377a",
   "metadata": {},
   "outputs": [],
   "source": [
    "##Reversing a string\n",
    "string = \"abc def\"\n",
    "revString=\"\"\n",
    "for letter in string:\n",
    "    rev.push(letter)\n",
    "\n",
    "for i in range(len(rev.items)):\n",
    "    #print(rev.items.pop())\n",
    "    revString=revString+rev.items.pop()\n",
    "    \n",
    "\n",
    "revString"
   ]
  },
  {
   "cell_type": "code",
   "execution_count": 6,
   "id": "e476aa43",
   "metadata": {},
   "outputs": [
    {
     "name": "stdout",
     "output_type": "stream",
     "text": [
      "Balanced\n"
     ]
    }
   ],
   "source": [
    "#Balanced parenthesis without stacks:\n",
    "br1 = \"((()))\"\n",
    "count = 0\n",
    "for bracket in br1:\n",
    "    if bracket == \"(\":\n",
    "        count = count+1\n",
    "    else:\n",
    "        count= count-1\n",
    "if count == 0:\n",
    "    return True\n",
    "else:\n",
    "    return False"
   ]
  },
  {
   "cell_type": "code",
   "execution_count": 7,
   "id": "fa922f75",
   "metadata": {},
   "outputs": [],
   "source": [
    "#Balanced parenthesis with stacks:\n",
    "\n",
    "class Stack:\n",
    "    \n",
    "    def __init__(self):\n",
    "        self.items=[]\n",
    "                \n",
    "    def push(self, item):\n",
    "        self.items.append(item)        \n",
    "        \n",
    "    def pop(self):\n",
    "#         #underflow condition. \n",
    "#         if self.isEmpty():\n",
    "#             return \"The stack is empty\"\n",
    "        return self.items.pop()\n",
    "    \n",
    "    def isEmpty(self):\n",
    "        return self.items==[]\n",
    "    \n",
    "    def peek(self):\n",
    "        return self.items[len(self.items)-1]\n",
    "    \n",
    "    def size(self):\n",
    "        return len(self.items)"
   ]
  },
  {
   "cell_type": "code",
   "execution_count": 8,
   "id": "aa2df17a",
   "metadata": {},
   "outputs": [],
   "source": []
  },
  {
   "cell_type": "code",
   "execution_count": null,
   "id": "26e17711",
   "metadata": {},
   "outputs": [],
   "source": []
  },
  {
   "cell_type": "code",
   "execution_count": null,
   "id": "008cc481",
   "metadata": {},
   "outputs": [],
   "source": []
  },
  {
   "cell_type": "code",
   "execution_count": null,
   "id": "2d6afc28",
   "metadata": {},
   "outputs": [],
   "source": []
  },
  {
   "cell_type": "code",
   "execution_count": null,
   "id": "c34cc552",
   "metadata": {},
   "outputs": [],
   "source": []
  },
  {
   "cell_type": "code",
   "execution_count": null,
   "id": "cd72e42f",
   "metadata": {},
   "outputs": [],
   "source": []
  }
 ],
 "metadata": {
  "colab": {
   "collapsed_sections": [],
   "name": "Stacks reference.ipynb",
   "provenance": []
  },
  "kernelspec": {
   "display_name": "Python 3 (ipykernel)",
   "language": "python",
   "name": "python3"
  },
  "language_info": {
   "codemirror_mode": {
    "name": "ipython",
    "version": 3
   },
   "file_extension": ".py",
   "mimetype": "text/x-python",
   "name": "python",
   "nbconvert_exporter": "python",
   "pygments_lexer": "ipython3",
   "version": "3.9.12"
  }
 },
 "nbformat": 4,
 "nbformat_minor": 5
}
